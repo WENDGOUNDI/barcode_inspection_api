{
 "cells": [
  {
   "cell_type": "code",
   "execution_count": 5,
   "metadata": {},
   "outputs": [
    {
     "name": "stdout",
     "output_type": "stream",
     "text": [
      "{\n",
      "  \"response\": {\n",
      "    \"Barcode Data\": null,\n",
      "    \"Barcode Type\": null,\n",
      "    \"Status\": \"Barcode Data Not Detected or is either blank or corrupted\"\n",
      "  }\n",
      "}\n",
      "\n"
     ]
    }
   ],
   "source": [
    "from __future__ import print_function\n",
    "import requests\n",
    "import json\n",
    "import cv2\n",
    "\n",
    "\n",
    "url = \"http://localhost:5000/barcode_data_extraction?key=@5\\FDVakRB0a0Nv=PwMr\"\n",
    "\n",
    "# prepare headers for http request\n",
    "content_type = 'image/jpeg'\n",
    "headers = {'content-type': content_type}\n",
    "\n",
    "# Reading the image\n",
    "img = cv2.imread('./test_images/product20_barcode.jpg')\n",
    "\n",
    "# encode image as png\n",
    "_, img_encoded = cv2.imencode('.png', img)\n",
    "\n",
    "# send http request with image and receive response\n",
    "response = requests.post(url, data=img_encoded.tostring(), headers=headers)\n",
    "print(response.text)\n"
   ]
  },
  {
   "cell_type": "code",
   "execution_count": null,
   "metadata": {},
   "outputs": [],
   "source": []
  }
 ],
 "metadata": {
  "kernelspec": {
   "display_name": "virtualenv",
   "language": "python",
   "name": "python3"
  },
  "language_info": {
   "codemirror_mode": {
    "name": "ipython",
    "version": 3
   },
   "file_extension": ".py",
   "mimetype": "text/x-python",
   "name": "python",
   "nbconvert_exporter": "python",
   "pygments_lexer": "ipython3",
   "version": "3.7.16"
  },
  "orig_nbformat": 4
 },
 "nbformat": 4,
 "nbformat_minor": 2
}
