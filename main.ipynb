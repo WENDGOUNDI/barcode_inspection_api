{
 "cells": [
  {
   "attachments": {},
   "cell_type": "markdown",
   "metadata": {},
   "source": [
    "python-barcode: a python library used to create different standard types of barcodes. They can be generated as SVG objects or PNG images. Python-barcode can generate the following types of barcodes:\n",
    " - EAN-8\n",
    " - EAN-13\n",
    " - EAN-14\n",
    " - UPC-A \n",
    " - JAN\n",
    " - ISBN-10\n",
    " - ISBN-13"
   ]
  },
  {
   "attachments": {},
   "cell_type": "markdown",
   "metadata": {},
   "source": [
    "# Generate Barcodes"
   ]
  },
  {
   "cell_type": "code",
   "execution_count": 1,
   "metadata": {},
   "outputs": [],
   "source": [
    "from barcode import EAN13                   # imported to create EAN13 barcodes\n",
    "from barcode.writer import ImageWriter      # imported to save generated bar\n",
    "import uuid                                 # imported to generate unique numbers, later used for barcode creation."
   ]
  },
  {
   "cell_type": "code",
   "execution_count": 4,
   "metadata": {},
   "outputs": [
    {
     "name": "stdout",
     "output_type": "stream",
     "text": [
      "10224786749217\n"
     ]
    },
    {
     "data": {
      "text/plain": [
       "'barcode_1.png'"
      ]
     },
     "execution_count": 4,
     "metadata": {},
     "output_type": "execute_result"
    }
   ],
   "source": [
    "# Create Random and Unique number for our barcode\n",
    "random_number = str(uuid.uuid1().int)[:14]\n",
    "print(random_number)\n",
    "\n",
    "# Create an EAN13 barcode\n",
    "my_code = EAN13(random_number, writer=ImageWriter())\n",
    "\n",
    "# Save the barcode as png image\n",
    "my_code.save(\"barcode_1\")"
   ]
  },
  {
   "cell_type": "code",
   "execution_count": null,
   "metadata": {},
   "outputs": [],
   "source": []
  },
  {
   "attachments": {},
   "cell_type": "markdown",
   "metadata": {},
   "source": [
    "## Barcodes Information Extraction "
   ]
  },
  {
   "cell_type": "code",
   "execution_count": 2,
   "metadata": {},
   "outputs": [
    {
     "name": "stdout",
     "output_type": "stream",
     "text": [
      "Barcode Data: 5901234123457\n",
      "Barcode Type: EAN13\n"
     ]
    }
   ],
   "source": [
    "# Importing library\n",
    "import cv2\n",
    "from pyzbar.pyzbar import decode\n",
    "import numpy as np\n",
    "\n",
    "# Set the image path\n",
    "image_path = \"barcode_2.png\"\n",
    "\n",
    "# Image reading\n",
    "img = cv2.imread(image_path)\n",
    "\n",
    "# Decode the barcode image\n",
    "detectedBarcodes = decode(img)\n",
    "\n",
    "# If not detected then print the info message\n",
    "if not detectedBarcodes:\n",
    "    print(\"Barcode Not Detected or is either blank or corrupted!\")\n",
    "else:\n",
    "\n",
    "    # Loop through all the detected barcodes in our image\n",
    "    for barcode in detectedBarcodes:\n",
    "    \n",
    "        # Locate the barcode position in the image\n",
    "        (x, y, w, h) = barcode.rect\n",
    "\n",
    "        #\n",
    "        sub_img = img[y:y+h, x:x+w]\n",
    "        white_rect = np.ones(sub_img.shape, dtype=np.uint8) * 255\n",
    "        white_rect[:, :] = [0, 40, 250] \n",
    "        res = cv2.addWeighted(sub_img, 0.5, white_rect, 0.5, 1.0)\n",
    "        img[y:y+h, x:x+w] = res\n",
    "        \n",
    "        # Put the rectangle in image using\n",
    "        # cv2 to highlight the barcode\n",
    "        cv2.rectangle(img, (x-10, y-10),\n",
    "                    (x + w+10, y + h+10),\n",
    "                    (255, 0, 0), 2)\n",
    "        \n",
    "        \n",
    "        if barcode.data!=\"\":\n",
    "        \n",
    "            # Print the barcode data and type\n",
    "            # Convert barcode data from bytes to string\n",
    "            var_barcode_data = barcode.data.decode(\"utf-8\") \n",
    "            print(f\"Barcode Data: {var_barcode_data}\")\n",
    "            print(f\"Barcode Type: {barcode.type}\")\n",
    "\n",
    "            # display the extracted barcode information\n",
    "            cv2.putText(img, var_barcode_data, (x, y+15), cv2.FONT_HERSHEY_SIMPLEX, 1, (255, 0, 0), 2, cv2.LINE_AA)\n",
    "            \n",
    "#Display the image\n",
    "cv2.imshow(\"Image\", img)\n",
    "# Uncomment below line to save the result\n",
    "#cv2.imwrite(\"barcode_extract2.png\", img)\n",
    "cv2.waitKey(0)\n",
    "cv2.destroyAllWindows()\n",
    "\n"
   ]
  }
 ],
 "metadata": {
  "kernelspec": {
   "display_name": "virtualenv",
   "language": "python",
   "name": "python3"
  },
  "language_info": {
   "codemirror_mode": {
    "name": "ipython",
    "version": 3
   },
   "file_extension": ".py",
   "mimetype": "text/x-python",
   "name": "python",
   "nbconvert_exporter": "python",
   "pygments_lexer": "ipython3",
   "version": "3.7.16"
  },
  "orig_nbformat": 4
 },
 "nbformat": 4,
 "nbformat_minor": 2
}
